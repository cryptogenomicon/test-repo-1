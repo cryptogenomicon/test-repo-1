{
 "cells": [
  {
   "cell_type": "markdown",
   "id": "b1e2716f-8988-402a-b7dd-5990dd4df0be",
   "metadata": {},
   "source": [
    "# A test notebook with nothing."
   ]
  },
  {
   "cell_type": "code",
   "execution_count": 1,
   "id": "6eb57c5f-33ce-46a3-9c6e-bc9096aa5db8",
   "metadata": {},
   "outputs": [
    {
     "name": "stdout",
     "output_type": "stream",
     "text": [
      "0.10485269839102629\n"
     ]
    }
   ],
   "source": [
    "import numpy as np\n",
    "\n",
    "rng = np.random.default_rng()\n",
    "print(rng.random())"
   ]
  },
  {
   "cell_type": "code",
   "execution_count": null,
   "id": "a4b6c3f4-d7af-4234-84a2-1aca32429ca9",
   "metadata": {},
   "outputs": [],
   "source": []
  }
 ],
 "metadata": {
  "kernelspec": {
   "display_name": "Python 3 (ipykernel)",
   "language": "python",
   "name": "python3"
  },
  "language_info": {
   "codemirror_mode": {
    "name": "ipython",
    "version": 3
   },
   "file_extension": ".py",
   "mimetype": "text/x-python",
   "name": "python",
   "nbconvert_exporter": "python",
   "pygments_lexer": "ipython3",
   "version": "3.12.5"
  }
 },
 "nbformat": 4,
 "nbformat_minor": 5
}
