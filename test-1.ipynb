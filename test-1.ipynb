{
 "cells": [
  {
   "cell_type": "markdown",
   "id": "b1e2716f-8988-402a-b7dd-5990dd4df0be",
   "metadata": {},
   "source": [
    "# A test notebook with nothing."
   ]
  },
  {
   "cell_type": "code",
   "execution_count": null,
   "id": "6eb57c5f-33ce-46a3-9c6e-bc9096aa5db8",
   "metadata": {},
   "outputs": [],
   "source": []
  }
 ],
 "metadata": {
  "kernelspec": {
   "display_name": "Python 3 (ipykernel)",
   "language": "python",
   "name": "python3"
  },
  "language_info": {
   "codemirror_mode": {
    "name": "ipython",
    "version": 3
   },
   "file_extension": ".py",
   "mimetype": "text/x-python",
   "name": "python",
   "nbconvert_exporter": "python",
   "pygments_lexer": "ipython3",
   "version": "3.12.5"
  }
 },
 "nbformat": 4,
 "nbformat_minor": 5
}
