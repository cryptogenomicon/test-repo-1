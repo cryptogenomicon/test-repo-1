{
 "cells": [
  {
   "cell_type": "code",
   "execution_count": null,
   "id": "9146a832-d097-4897-a5e1-30eabda3280b",
   "metadata": {},
   "outputs": [],
   "source": [
    "import numpy as np                    \n",
    "import matplotlib.pyplot as plt\n",
    "\n",
    "%matplotlib inline                     "
   ]
  },
  {
   "cell_type": "code",
   "execution_count": null,
   "id": "1b98e28d-1ca6-4e9a-ad2a-d6f37708866b",
   "metadata": {},
   "outputs": [],
   "source": [
    "def read_genbank_file(seqfile):\n",
    "    \"\"\"Read one sequence from a Genbank-format file.\n",
    "\n",
    "    Input:  <seqfile>: path to a Genbank format file containing one DNA sequence.\n",
    "    Output: <seq>:     sequence, as a list of upper-case characters (typically A|C|G|T)\n",
    "\n",
    "    If the sequence contains characters other than A|C|G|T, such as degeneracy codes like N|R|Y, these will still be included.\n",
    "    \"\"\"\n",
    "    in_sequence = False\n",
    "    seq         = []\n",
    "    with open(seqfile) as f:\n",
    "        for line in f:\n",
    "            if   line.startswith('//'):     break\n",
    "            elif in_sequence:               seq.extend( [ x.upper() for x in line if x.isalpha() ] )\n",
    "            elif line.startswith('ORIGIN'): in_sequence = True\n",
    "    return seq\n",
    "    "
   ]
  },
  {
   "cell_type": "code",
   "execution_count": null,
   "id": "7c53cf44-8eb3-4d23-9be6-ca4eb96e42e4",
   "metadata": {},
   "outputs": [],
   "source": [
    "line = '120 ACT gat'                # Forget all the Genbank file stuff. Make sure we can turn this one little line into list('ACTGAT').\n",
    "print( type(line) )                 # The built-in method type() is your friend for figuring out what things are: here, line is a `str` class\n",
    "L    = [x for x in line]            # Simple list comprehension. \n",
    "print( type(L) )                    # The result L is a list of the characters in `line`\n",
    "print (L)      \n",
    "L    = [ 'hey!' for x in line ]     # Nothing sacred about that first x. We can put anything into the new list as we iterate through `line`\n",
    "print (L)\n",
    "L    = [ x.upper() for x in line ]  # but usually it would be something to do with the `x` we're iterating over in line, of course\n",
    "print (L)\n",
    "L    = [ x.upper() for x in line if x.isalpha() ]   # and finally here's what we did to make the argument we passed to `seq.extend()`\n",
    "print (L)\n",
    "L    = list('ACTGAT')               # if it weren't for the numbers and spaces - converting a string to a list is easy with `list()`\n",
    "print (L)\n"
   ]
  },
  {
   "cell_type": "code",
   "execution_count": null,
   "id": "2c65234f-a7b0-4afe-a4ba-4caca1fca68c",
   "metadata": {},
   "outputs": [],
   "source": [
    "def chaos_game(seq):\n",
    "    \"\"\"Given a DNA sequence, produce a chaos game representation, as a 2D array of coordinates\n",
    "\n",
    "    Input:  <seq> : a list or array of A|C|G|T characters\n",
    "    Output: 2D numpy array of shape (L x 2): array of 2D coords for each of L points\n",
    "\n",
    "    Assumes that the <seq> list only contains A|C|G|T characters.\n",
    "    \"\"\"\n",
    "    vertices = { 'A' : [0, 0], 'C': [0,1], 'G': [1,1], 'T': [1,0] }\n",
    "    L = len(seq)\n",
    "\n",
    "    data = np.zeros( (L,2) )\n",
    "    data[0] = vertices[seq[0]]\n",
    "    for i in range(1,L):\n",
    "        data[i] = (data[i-1] + vertices[seq[i]]) / 2\n",
    "    return data\n",
    "    "
   ]
  },
  {
   "cell_type": "code",
   "execution_count": null,
   "id": "7fbe2b54-b504-48d6-bc9a-aebcefeaa6cd",
   "metadata": {},
   "outputs": [],
   "source": [
    "D = np.array( [ [0.1, 0.1 ],       # Make a small example of the Lx2 array\n",
    "                [0.2, 0.2 ], \n",
    "                [0.3, 0.3 ] ] )\n",
    "vertex = np.array([0.5, 0.5])     # and an example vertex\n",
    "print(type(D))                    # `D` is a numpy array\n",
    "print(D.shape)                    #   ... of \"shape\" 3x2\n",
    "print(type(D[1]))                 # `D[1]` is one row of the array.. but still just another numpy array\n",
    "print(D[1].shape)                 #   ... now of shape 1x2, but since it's a vector, numpy interprets it as `2,`\n",
    "print(type(vertex))               # `vertex` is also a numpy array\n",
    "print(vertex.shape)               #   ... also of shape `2,`\n",
    "r = D[1] + vertex                 # the two vectors have the same shape, so we can add them, elementwise\n",
    "print (r)\n"
   ]
  },
  {
   "cell_type": "code",
   "execution_count": null,
   "id": "16cff3bb-5634-4eda-9986-49ab3f9aea30",
   "metadata": {},
   "outputs": [],
   "source": [
    "L = [ 10, 20, 30 ]\t\t\t\t\t\t         \t# lists: initialization\n",
    "D = { 'Holmes': 'postdoc', 'Watson': 'student' }  \t# dicts: initialization\n",
    "print(L[1])\n",
    "print(D['Holmes'])\n",
    "L.append(40)                              # append to the end of a list\n",
    "print(L)\n",
    "D['Wiggins'] = 'Baker Street Irregular'   # add element to a dict\n",
    "print(D)"
   ]
  },
  {
   "cell_type": "code",
   "execution_count": null,
   "id": "5a7cb2f8-0598-4030-aa55-1f25683a0844",
   "metadata": {},
   "outputs": [],
   "source": [
    "def plot_chaos(data):\n",
    "    \"\"\"Create a scatterplot figure from an Lx2 array of chaos game points\n",
    "\n",
    "    Input <data>: Lx2 array of coords for L points\n",
    "    Result:       an inline figure in our notebook\n",
    "    \"\"\"\n",
    "    fig, ax = plt.subplots()                                                # Creates Figure, Axes objects to plot in\n",
    "    ax.scatter(data[:,0], data[:,1], s=0.1, marker='.', color='black')      # scatter plot with black points of size 0.1\n",
    "\n",
    "    ax.text(0, 1, 'C', horizontalalignment='right')                         # here we're labeling A,C,G,T vertices\n",
    "    ax.text(1, 1, 'G')\n",
    "    ax.text(0, 0, 'A', verticalalignment='top', horizontalalignment='right')\n",
    "    ax.text(1, 0, 'T', verticalalignment='top')\n",
    "\n",
    "    ax.axis('equal')      # make sure the plot is shown as a square, not a rectangle\n",
    "    ax.set_axis_off()     # turn off everything associated with the axes: tick marks, labels, spines\n",
    "\n",
    "    fig.tight_layout()    # tighten margins, reduce unnecessary white space\n"
   ]
  },
  {
   "cell_type": "code",
   "execution_count": null,
   "id": "81a3ae57-d68f-46bc-b540-b7626430f3d8",
   "metadata": {},
   "outputs": [],
   "source": [
    "seq = read_genbank_file('BabyGotBac.gb')\n",
    "D   = chaos_game(seq)\n",
    "plot_chaos(D)"
   ]
  },
  {
   "cell_type": "code",
   "execution_count": null,
   "id": "445ce0f1-0468-48b3-8e4c-88d80fdc41b6",
   "metadata": {},
   "outputs": [],
   "source": [
    "seq = read_genbank_file('Dwayne.gb')\n",
    "D   = chaos_game(seq)\n",
    "plot_chaos(D)"
   ]
  },
  {
   "cell_type": "code",
   "execution_count": null,
   "id": "233cf350-270e-4f2a-831b-00f45f5083b8",
   "metadata": {},
   "outputs": [],
   "source": [
    "seq = read_genbank_file('Tiamoceli.gb')\n",
    "D   = chaos_game(seq)\n",
    "plot_chaos(D)"
   ]
  },
  {
   "cell_type": "code",
   "execution_count": null,
   "id": "24a20e59-cba0-49e2-a285-4e35241c944b",
   "metadata": {},
   "outputs": [],
   "source": [
    "seq = np.random.choice(list('ACT'), size=(50000))\n",
    "D   = chaos_game(seq)\n",
    "plot_chaos(D)"
   ]
  },
  {
   "cell_type": "code",
   "execution_count": null,
   "id": "091f1eff-61d3-4ff1-8a52-09bdd57a1976",
   "metadata": {},
   "outputs": [],
   "source": [
    "p = [ [ 0.25, 0.25, 0.25, 0.25 ],   # P(x | A), where x = {A,C,G,T}.\n",
    "      [ 1/3,  1/3,  0.0,  1/3  ],   # P(x | C) ... here I've set P(G|C) = 0 to disallow CpG dinucs\n",
    "      [ 0.25, 0.25, 0.25, 0.25 ],   # and so on\n",
    "      [ 0.25, 0.25, 0.25, 0.25 ],\n",
    "    ]\n",
    "alphabet = list('ACGT')\n",
    "L        = 50000\n",
    "\n",
    "seq = ['A']   # I could've been more random about choosing the initial nucleotide... but let's just make it an A,\n",
    "prv = 0       # it doesn't matter for this visualization, the other 49,999 points dominate the view\n",
    "for i in range(1,L):\n",
    "    cur = np.random.choice(4, p=p[prv])     # The p= optional argument to np.random.choice() lets me provide my own probabilities\n",
    "    seq.append(alphabet[cur])               # <cur>, <prv> are integers 0..3, so I have to convert to an A|C|G|T letter with alphabet[cur]\n",
    "    prv = cur\n",
    "\n",
    "D = chaos_game(seq)\n",
    "plot_chaos(D)\n"
   ]
  },
  {
   "cell_type": "code",
   "execution_count": null,
   "id": "b0039727-1579-4ba3-afce-cca3b37469c1",
   "metadata": {},
   "outputs": [],
   "source": [
    "kmer     = list('CCAG')\n",
    "new_kmer = list('TTTT')\n",
    "k        = len(kmer)\n",
    "L        = 50000\n",
    "seq      = list(np.random.choice(list('ACGT'), size=(50000)))\n",
    "\n",
    "for i in range(L-k+1):\n",
    "    if seq[i:i+4] == kmer: seq[i:i+4] = new_kmer\n",
    "\n",
    "D = chaos_game(seq)\n",
    "plot_chaos(D)\n",
    "    "
   ]
  },
  {
   "cell_type": "code",
   "execution_count": null,
   "id": "b6328b0e-10b2-444e-bc9e-9074dd3d4c38",
   "metadata": {},
   "outputs": [],
   "source": [
    "seq = list('CCAG') * 10000\n",
    "D = chaos_game(seq)\n",
    "plot_chaos(D)"
   ]
  },
  {
   "cell_type": "code",
   "execution_count": null,
   "id": "76661518-d086-4e36-b72d-9e956a8da7e3",
   "metadata": {},
   "outputs": [],
   "source": []
  }
 ],
 "metadata": {
  "kernelspec": {
   "display_name": "Python 3 (ipykernel)",
   "language": "python",
   "name": "python3"
  },
  "language_info": {
   "codemirror_mode": {
    "name": "ipython",
    "version": 3
   },
   "file_extension": ".py",
   "mimetype": "text/x-python",
   "name": "python",
   "nbconvert_exporter": "python",
   "pygments_lexer": "ipython3",
   "version": "3.12.5"
  }
 },
 "nbformat": 4,
 "nbformat_minor": 5
}
